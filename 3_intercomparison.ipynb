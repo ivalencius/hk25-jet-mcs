{
 "cells": [
  {
   "cell_type": "code",
   "execution_count": 1,
   "id": "64cff75c-7ca8-4e2e-a70b-c7d1f25e57e0",
   "metadata": {},
   "outputs": [],
   "source": [
    "## Standard Stuff\n",
    "import numpy as np\n",
    "import xarray as xr\n",
    "import cartopy.crs as ccrs\n",
    "import cartopy.feature as cf\n",
    "import matplotlib.pyplot as plt\n",
    "import dask.array as da\n",
    "import numcodecs\n",
    "\n",
    "## HEALPix Specific\n",
    "import healpix as hp\n",
    "import easygems.healpix as egh\n",
    "import easygems.remap as egr\n",
    "\n",
    "import intake     # For catalogs\n",
    "import zarr\n",
    "\n",
    "# Ilan\n",
    "from icecream import ic\n",
    "import nc_time_axis\n",
    "\n",
    "def worldmap(var, title='', cbar_title='', **kwargs):\n",
    "    #projection = ccrs.Robinson(central_longitude=-135.5808361)\n",
    "    projection = ccrs.Robinson(central_longitude=0)\n",
    "    fig, ax = plt.subplots(\n",
    "        figsize=(8, 4), subplot_kw={\"projection\": projection}, constrained_layout=True\n",
    "    )\n",
    "    ax.set_global()\n",
    "    ax.set_title(title)\n",
    "\n",
    "    hpshow = egh.healpix_show(var, ax=ax, **kwargs)\n",
    "    cbar = plt.colorbar(hpshow, ax=ax, orientation='vertical', \n",
    "                    pad=0.05, shrink=0.8, label=cbar_title)\n",
    "    ax.add_feature(cf.COASTLINE, linewidth=0.8)\n",
    "    ax.add_feature(cf.BORDERS, linewidth=0.4)\n",
    "    \n",
    "def usmap(var, title='', cbar_title='', **kwargs):\n",
    "    #projection = ccrs.Robinson(central_longitude=-135.5808361)\n",
    "    #projection = ccrs.Robinson(central_longitude=-90)\n",
    "    projection = ccrs.PlateCarree()\n",
    "    fig, ax = plt.subplots(\n",
    "        figsize=(8, 4), subplot_kw={\"projection\": projection}, constrained_layout=True\n",
    "    )\n",
    "    ax.set_extent([-130, -60, 20, 45])\n",
    "    \n",
    "    hpshow = egh.healpix_show(var, ax=ax, **kwargs)\n",
    "    cbar = plt.colorbar(hpshow, ax=ax, orientation='vertical', \n",
    "                    pad=0.05, shrink=0.8, label=cbar_title)\n",
    "    ax.set_title(title)\n",
    "    ax.add_feature(cf.COASTLINE, linewidth=0.8)\n",
    "    #ax.coastlines(linewidth=0.8)\n",
    "    ax.add_feature(cf.BORDERS, linewidth=0.4)\n",
    "    ax.add_feature(cf.STATES, linewidth=0.4)"
   ]
  },
  {
   "cell_type": "code",
   "execution_count": 2,
   "id": "bad2efa3-932c-47e5-af2e-cf85e4d79e73",
   "metadata": {},
   "outputs": [],
   "source": [
    "# set up dask\n",
    "from dask.distributed import Client, LocalCluster\n",
    "from dask.diagnostics import ProgressBar\n",
    "pbar = ProgressBar()\n",
    "pbar.register()\n",
    "# cluster = LocalCluster()\n",
    "# client = Client(cluster)\n",
    "# client"
   ]
  },
  {
   "cell_type": "code",
   "execution_count": null,
   "id": "9e2a2c8c-b0e7-4744-864b-7a5a99343a5e",
   "metadata": {},
   "outputs": [],
   "source": [
    "# for name in ['XSHIELD', 'ICON']:\n",
    "#     llj = xr.open_dataset(f'/scratch/cimes/iv4111/hk25-data/llj_{name}.h5', chunks='auto')\n",
    "#     freq = llj.mask.sum('time')/len(llj.time)*100\n",
    "#     freq = freq.where(freq>0, np.nan)\n",
    "#     title = f'{name} (2019-10-20 to 2021-1-7)'\n",
    "#     usmap(freq, title=f'LLJ Occurrence {title}', cbar_title='Frequency [%]', vmin=0, vmax=40)\n",
    "#     # Speed\n",
    "#     usmap(llj.speed.mean('time'), title=f'LLJ Speed {title}', cbar_title=r'Mean Speed of LLJ [m s$^{-1}$]', vmin=0, vmax=25, cmap='plasma')\n",
    "#     # Jet height\n",
    "#     usmap(llj.height.mean('time'), title=f'LLJ Height {title}', cbar_title=r'Mean Height of LLJ [m]', vmin=0, vmax=1000, cmap='cividis')"
   ]
  },
  {
   "cell_type": "code",
   "execution_count": 35,
   "id": "a088eede-ffe7-4256-ac97-5838b13daddc",
   "metadata": {},
   "outputs": [
    {
     "name": "stdout",
     "output_type": "stream",
     "text": [
      "Number of X-Shield Times:  3560\n",
      "[########################################] | 100% Completed | 303.39 ms\n",
      "Number of SCREAM Times:  3168\n",
      "[########################################] | 100% Completed | 101.54 ms\n",
      "[########################################] | 100% Completed | 100.68 ms\n",
      "[########################################] | 100% Completed | 329.18 ms\n",
      "[########################################] | 100% Completed | 100.84 ms\n",
      "[########################################] | 100% Completed | 100.63 ms\n",
      "[########################################] | 100% Completed | 317.35 ms\n",
      "[########################################] | 100% Completed | 102.66 ms\n",
      "[########################################] | 100% Completed | 100.62 ms\n",
      "[########################################] | 100% Completed | 308.10 ms\n"
     ]
    }
   ],
   "source": [
    "xsh = xr.open_dataset(f'/scratch/cimes/iv4111/hk25-data/llj_XSHIELD.h5', chunks='auto')\n",
    "xsh_freq = xsh.mask.where(xsh.mask.sum('time')/len(xsh.time)*100>5, np.nan)\n",
    "print('Number of X-Shield Times: ', len(xsh.time))\n",
    "for name in ['SCREAM', 'ICON', 'IFS']:\n",
    "    ds = xr.open_dataset(f'/scratch/cimes/iv4111/hk25-data/llj_{name}.h5', chunks='auto')\n",
    "    print(f'Number of {name} Times: ', len(ds.time))\n",
    "    ds_freq = ds.mask.sum('time')/len(ds.time)*100\n",
    "    ds_freq = xr.where(ds_freq>5, ds_freq, np.nan)\n",
    "    ds = xr.where(ds_freq>5, ds, np.nan)\n",
    "    # Need to ensure attributes\n",
    "    ds_freq['crs'].attrs = xsh['crs'].attrs.copy()\n",
    "    ds['crs'].attrs = xsh['crs'].attrs.copy()\n",
    "    # Frequency\n",
    "    freq_diff = ds.speed.mean('time') - xsh.speed.mean('time')\n",
    "    usmap(freq_diff, title=f'ICON - X-Shield LLJ Occurence', cbar_title=r'Difference [%]', vmax=10, vmin=-10, cmap='RdBu_r')\n",
    "    plt.savefig(f'figures/deltaXSH_{name}_occurence.jpg', dpi=300)\n",
    "    plt.close()\n",
    "    # Speed\n",
    "    speed_diff = ds.speed.mean('time') - xsh.speed.mean('time')\n",
    "    usmap(speed_diff, title=f'ICON - X-Shield LLJ Speed', cbar_title=r'Difference [m s$^{-1}$]', vmin=-10, vmax=10, cmap='RdBu_r')\n",
    "    plt.savefig(f'figures/deltaXSH_{name}_speed.jpg', dpi=300)\n",
    "    plt.close()\n",
    "    # Height\n",
    "    height_diff = ds.height.mean('time') - xsh.height.mean('time')\n",
    "    usmap(height_diff, title=f'ICON - X-Shield LLJ Height', cbar_title=r'Difference [m]', vmin=-400, vmax=400, cmap='RdBu_r')\n",
    "    plt.savefig(f'figures/deltaXSH_{name}_height.jpg', dpi=300)\n",
    "    plt.close()\n",
    "    break # REMOVE THIS LATER"
   ]
  }
 ],
 "metadata": {
  "kernelspec": {
   "display_name": "easy25 [~/.conda/envs/easy25/]",
   "language": "python",
   "name": "conda_easy25"
  },
  "language_info": {
   "codemirror_mode": {
    "name": "ipython",
    "version": 3
   },
   "file_extension": ".py",
   "mimetype": "text/x-python",
   "name": "python",
   "nbconvert_exporter": "python",
   "pygments_lexer": "ipython3",
   "version": "3.12.10"
  }
 },
 "nbformat": 4,
 "nbformat_minor": 5
}
